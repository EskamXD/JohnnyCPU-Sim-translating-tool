{
 "cells": [
  {
   "cell_type": "code",
   "execution_count": 3,
   "metadata": {},
   "outputs": [],
   "source": [
    "def readProgramFromFile(filename):\n",
    "    with open(filename, 'r') as file:\n",
    "        program = file.readlines()\n",
    "    return [line.strip() for line in program]"
   ]
  },
  {
   "cell_type": "code",
   "execution_count": 4,
   "metadata": {},
   "outputs": [],
   "source": [
    "def writeProgramToFile(filename, endStrings):\n",
    "    with open(filename, 'w') as file:\n",
    "        for line in endStrings:\n",
    "            file.write(line + '\\n')"
   ]
  },
  {
   "cell_type": "code",
   "execution_count": 7,
   "metadata": {},
   "outputs": [],
   "source": [
    "def fileProcessing(programArray):\n",
    "    programArray = [line.split(' ') for line in programArray]\n",
    "    instructionDictionary = {'TAKE':1, 'ADD':2, 'SUB':3, 'SAVE':4, 'JMP':5, 'TST':6, 'INC':7, 'DEC':8, 'NULL':9, 'HLT':10}\n",
    "    opt = []\n",
    "    var = {}\n",
    "    varValues = {}\n",
    "    goto = {}\n",
    "    endStrings = []\n",
    "    print(programArray)\n",
    "    for line in programArray:\n",
    "        # print(line)\n",
    "        if line[0] in instructionDictionary.keys():\n",
    "            opt.append(line[0])\n",
    "        else:\n",
    "            var[line[0]] = programArray.index(line)\n",
    "            varValues[line[0]] = line[1]\n",
    "            # pass\n",
    "\n",
    "        if len(line) == 3:\n",
    "            goto[line[2]] = opt.index(line[0])\n",
    "\n",
    "    print(opt) \n",
    "    print(var)\n",
    "    print(goto)\n",
    "\n",
    "    for item in programArray:\n",
    "        # item = item.split(' ')\n",
    "        # print(item)\n",
    "        if item[0] == 'JMP':\n",
    "            if item[1] in goto.keys():\n",
    "                # print(str(instructionDictionary[item[0]]) + str(goto[item[1]]).zfill(3))\n",
    "                endStrings.append(str(instructionDictionary[item[0]]) + str(goto[item[1]]).zfill(3))\n",
    "                # pass\n",
    "            else:\n",
    "                print(\"error\")\n",
    "                # pass\n",
    "            continue\n",
    "        \n",
    "        if item[0] == 'HLT':\n",
    "            # print('10000')\n",
    "            endStrings.append('10000')\n",
    "            continue\n",
    "\n",
    "        if item[1] in var.keys():\n",
    "            # print(str(instructionDictionary[item[0]]) + str(var[item[1]]).zfill(3))\n",
    "            endStrings.append(str(instructionDictionary[item[0]]) + str(var[item[1]]).zfill(3))\n",
    "            # print(str(var[item[1]]).zfill(3))\n",
    "            # pass\n",
    "        elif len(item[1]) == 3:\n",
    "            # print(str(instructionDictionary[item[0]]) + item[1])\n",
    "            endStrings.append(str(instructionDictionary[item[0]]) + item[1])\n",
    "            # pass\n",
    "        else:\n",
    "            if item[0] in var.keys():\n",
    "                # print(str(var[item[0]]).zfill(3))\n",
    "                endStrings.append(str(varValues[item[0]]).zfill(3))\n",
    "                # endStrings.append(str(var[item[0]]).zfill(3))\n",
    "                # pass\n",
    "            else:\n",
    "                cAddr = max(var.values())\n",
    "                # print(str(instructionDictionary[item[0]]) + str(cAddr + 1).zfill(3))\n",
    "                endStrings.append(str(instructionDictionary[item[0]]) + str(cAddr + 1).zfill(3))\n",
    "                # pass\n",
    "\n",
    "    print(endStrings)\n",
    "    #fill up endStrings with 000 till 1000\n",
    "    while len(endStrings) < 1000:\n",
    "        endStrings.append('000')\n",
    "    return endStrings\n",
    "        "
   ]
  },
  {
   "cell_type": "code",
   "execution_count": 10,
   "metadata": {},
   "outputs": [
    {
     "name": "stdout",
     "output_type": "stream",
     "text": [
      "[['TAKE', 'd', 'Begin:'], ['SUB', 'b'], ['SAVE', 'c'], ['TST', 'c'], ['NULL', 'd'], ['INC', '000'], ['INC', '004'], ['DEC', 'a'], ['TST', 'a'], ['JMP', 'Begin:'], ['HLT'], ['a', '5'], ['b', '5'], ['c', '0'], ['d', '3'], ['e', '4'], ['f', '5'], ['g', '6'], ['h', '1']]\n",
      "['TAKE', 'SUB', 'SAVE', 'TST', 'NULL', 'INC', 'INC', 'DEC', 'TST', 'JMP', 'HLT']\n",
      "{'a': 11, 'b': 12, 'c': 13, 'd': 14, 'e': 15, 'f': 16, 'g': 17, 'h': 18}\n",
      "{'Begin:': 0}\n",
      "['1014', '3012', '4013', '6013', '9014', '7000', '7004', '8011', '6011', '5000', '10000', '005', '005', '000', '003', '004', '005', '006', '001']\n"
     ]
    }
   ],
   "source": [
    "def main():\n",
    "    programArray = readProgramFromFile('test.txt')\n",
    "    # print(programArray)\n",
    "    endStrings = fileProcessing(programArray)\n",
    "    # print(endStrings)\n",
    "    name = str(input(\"Input the name of .ram file:\"))\n",
    "    writeProgramToFile(f'{name}.ram', endStrings)\n",
    "\n",
    "if __name__ == '__main__':\n",
    "    main()"
   ]
  },
  {
   "cell_type": "code",
   "execution_count": null,
   "metadata": {},
   "outputs": [],
   "source": []
  }
 ],
 "metadata": {
  "kernelspec": {
   "display_name": "Python 3",
   "language": "python",
   "name": "python3"
  },
  "language_info": {
   "codemirror_mode": {
    "name": "ipython",
    "version": 3
   },
   "file_extension": ".py",
   "mimetype": "text/x-python",
   "name": "python",
   "nbconvert_exporter": "python",
   "pygments_lexer": "ipython3",
   "version": "3.11.2"
  },
  "orig_nbformat": 4
 },
 "nbformat": 4,
 "nbformat_minor": 2
}
