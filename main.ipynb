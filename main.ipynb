{
 "cells": [
  {
   "cell_type": "code",
   "execution_count": 1,
   "metadata": {},
   "outputs": [],
   "source": [
    "def readProgramFromFile(filename):\n",
    "    with open(filename, 'r') as file:\n",
    "        program = file.readlines()\n",
    "    return [line.strip() for line in program]"
   ]
  },
  {
   "cell_type": "code",
   "execution_count": 2,
   "metadata": {},
   "outputs": [],
   "source": [
    "def writeProgramToFile(filename, endStrings):\n",
    "    with open(filename, 'w') as file:\n",
    "        for line in endStrings:\n",
    "            file.write(line + '\\n')"
   ]
  },
  {
   "cell_type": "code",
   "execution_count": 9,
   "metadata": {},
   "outputs": [],
   "source": [
    "def fileProcessing(programArray):\n",
    "    programArray = [line.split(' ') for line in programArray]\n",
    "    instructionDictionary = {'TAKE':1, 'ADD':2, 'SUB':3, 'SAVE':4, 'JMP':5, 'TST':6, 'INC':7, 'DEC':8, 'NULL':9, 'HLT':10}\n",
    "    opt = []\n",
    "    var = {}\n",
    "    varValues = {}\n",
    "    goto = {}\n",
    "    endStrings = []\n",
    "    print(programArray)\n",
    "    for line in programArray:\n",
    "        # print(line)\n",
    "        if line[0] in instructionDictionary.keys():\n",
    "            opt.append(line[0])\n",
    "        else:\n",
    "            var[line[0]] = programArray.index(line)\n",
    "            varValues[line[0]] = line[1]\n",
    "            # pass\n",
    "\n",
    "        if len(line) == 3:\n",
    "            if line[2][0].isupper() and line[2][-1] == ':':\n",
    "                #get current index of line\n",
    "                # print(programArray.index(line))\n",
    "                goto[line[2]] = programArray.index(line)\n",
    "\n",
    "    print(opt) \n",
    "    print(var)\n",
    "    print(goto)\n",
    "\n",
    "    for item in programArray:\n",
    "        # item = item.split(' ')\n",
    "        # print(item)\n",
    "        if item[0] == 'JMP':\n",
    "            if item[1] in goto.keys():\n",
    "                # print(str(instructionDictionary[item[0]]) + str(goto[item[1]]).zfill(3))\n",
    "                endStrings.append(str(instructionDictionary[item[0]]) + str(goto[item[1]]).zfill(3))\n",
    "                # pass\n",
    "            else:\n",
    "                print(\"error\")\n",
    "                # pass\n",
    "            continue\n",
    "        \n",
    "        if item[0] == 'HLT':\n",
    "            # print('10000')\n",
    "            endStrings.append('10000')\n",
    "            continue\n",
    "\n",
    "        if item[1] in var.keys():\n",
    "            # print(str(instructionDictionary[item[0]]) + str(var[item[1]]).zfill(3))\n",
    "            endStrings.append(str(instructionDictionary[item[0]]) + str(var[item[1]]).zfill(3))\n",
    "            # print(str(var[item[1]]).zfill(3))\n",
    "            # pass\n",
    "        elif len(item[1]) == 3:\n",
    "            # print(str(instructionDictionary[item[0]]) + item[1])\n",
    "            endStrings.append(str(instructionDictionary[item[0]]) + item[1])\n",
    "            # pass\n",
    "        else:\n",
    "            if item[0] in var.keys():\n",
    "                # print(str(var[item[0]]).zfill(3))\n",
    "                endStrings.append(str(varValues[item[0]]).zfill(3))\n",
    "                # endStrings.append(str(var[item[0]]).zfill(3))\n",
    "                # pass\n",
    "            else:\n",
    "                cAddr = max(var.values())\n",
    "                # print(str(instructionDictionary[item[0]]) + str(cAddr + 1).zfill(3))\n",
    "                endStrings.append(str(instructionDictionary[item[0]]) + str(cAddr + 1).zfill(3))\n",
    "                # pass\n",
    "\n",
    "    print(endStrings)\n",
    "    #fill up endStrings with 000 till 1000\n",
    "    while len(endStrings) < 1000:\n",
    "        endStrings.append('000')\n",
    "    return endStrings\n",
    "        "
   ]
  },
  {
   "cell_type": "code",
   "execution_count": 10,
   "metadata": {},
   "outputs": [
    {
     "ename": "FileNotFoundError",
     "evalue": "[Errno 2] No such file or directory: 'vector7elements'",
     "output_type": "error",
     "traceback": [
      "\u001b[1;31m---------------------------------------------------------------------------\u001b[0m",
      "\u001b[1;31mFileNotFoundError\u001b[0m                         Traceback (most recent call last)",
      "Cell \u001b[1;32mIn[10], line 12\u001b[0m\n\u001b[0;32m      9\u001b[0m     writeProgramToFile(\u001b[39mf\u001b[39m\u001b[39m'\u001b[39m\u001b[39m{\u001b[39;00mfilename\u001b[39m}\u001b[39;00m\u001b[39m.ram\u001b[39m\u001b[39m'\u001b[39m, endStrings)\n\u001b[0;32m     11\u001b[0m \u001b[39mif\u001b[39;00m \u001b[39m__name__\u001b[39m \u001b[39m==\u001b[39m \u001b[39m'\u001b[39m\u001b[39m__main__\u001b[39m\u001b[39m'\u001b[39m:\n\u001b[1;32m---> 12\u001b[0m     main()\n",
      "Cell \u001b[1;32mIn[10], line 3\u001b[0m, in \u001b[0;36mmain\u001b[1;34m()\u001b[0m\n\u001b[0;32m      1\u001b[0m \u001b[39mdef\u001b[39;00m \u001b[39mmain\u001b[39m():\n\u001b[0;32m      2\u001b[0m     filename \u001b[39m=\u001b[39m \u001b[39mstr\u001b[39m(\u001b[39minput\u001b[39m(\u001b[39m\"\u001b[39m\u001b[39mInput the name of .txt file to read: \u001b[39m\u001b[39m\"\u001b[39m))\n\u001b[1;32m----> 3\u001b[0m     programArray \u001b[39m=\u001b[39m readProgramFromFile(filename)\n\u001b[0;32m      5\u001b[0m     \u001b[39m# print(programArray)\u001b[39;00m\n\u001b[0;32m      6\u001b[0m     endStrings \u001b[39m=\u001b[39m fileProcessing(programArray)\n",
      "Cell \u001b[1;32mIn[1], line 2\u001b[0m, in \u001b[0;36mreadProgramFromFile\u001b[1;34m(filename)\u001b[0m\n\u001b[0;32m      1\u001b[0m \u001b[39mdef\u001b[39;00m \u001b[39mreadProgramFromFile\u001b[39m(filename):\n\u001b[1;32m----> 2\u001b[0m     \u001b[39mwith\u001b[39;00m \u001b[39mopen\u001b[39;49m(filename, \u001b[39m'\u001b[39;49m\u001b[39mr\u001b[39;49m\u001b[39m'\u001b[39;49m) \u001b[39mas\u001b[39;00m file:\n\u001b[0;32m      3\u001b[0m         program \u001b[39m=\u001b[39m file\u001b[39m.\u001b[39mreadlines()\n\u001b[0;32m      4\u001b[0m     \u001b[39mreturn\u001b[39;00m [line\u001b[39m.\u001b[39mstrip() \u001b[39mfor\u001b[39;00m line \u001b[39min\u001b[39;00m program]\n",
      "File \u001b[1;32m~\\AppData\\Roaming\\Python\\Python311\\site-packages\\IPython\\core\\interactiveshell.py:282\u001b[0m, in \u001b[0;36m_modified_open\u001b[1;34m(file, *args, **kwargs)\u001b[0m\n\u001b[0;32m    275\u001b[0m \u001b[39mif\u001b[39;00m file \u001b[39min\u001b[39;00m {\u001b[39m0\u001b[39m, \u001b[39m1\u001b[39m, \u001b[39m2\u001b[39m}:\n\u001b[0;32m    276\u001b[0m     \u001b[39mraise\u001b[39;00m \u001b[39mValueError\u001b[39;00m(\n\u001b[0;32m    277\u001b[0m         \u001b[39mf\u001b[39m\u001b[39m\"\u001b[39m\u001b[39mIPython won\u001b[39m\u001b[39m'\u001b[39m\u001b[39mt let you open fd=\u001b[39m\u001b[39m{\u001b[39;00mfile\u001b[39m}\u001b[39;00m\u001b[39m by default \u001b[39m\u001b[39m\"\u001b[39m\n\u001b[0;32m    278\u001b[0m         \u001b[39m\"\u001b[39m\u001b[39mas it is likely to crash IPython. If you know what you are doing, \u001b[39m\u001b[39m\"\u001b[39m\n\u001b[0;32m    279\u001b[0m         \u001b[39m\"\u001b[39m\u001b[39myou can use builtins\u001b[39m\u001b[39m'\u001b[39m\u001b[39m open.\u001b[39m\u001b[39m\"\u001b[39m\n\u001b[0;32m    280\u001b[0m     )\n\u001b[1;32m--> 282\u001b[0m \u001b[39mreturn\u001b[39;00m io_open(file, \u001b[39m*\u001b[39;49margs, \u001b[39m*\u001b[39;49m\u001b[39m*\u001b[39;49mkwargs)\n",
      "\u001b[1;31mFileNotFoundError\u001b[0m: [Errno 2] No such file or directory: 'vector7elements'"
     ]
    }
   ],
   "source": [
    "def main():\n",
    "    filename = str(input(\"Input the name of .txt file to read: \"))\n",
    "    if filename[-4:] != '.txt':\n",
    "        filename += '.txt'\n",
    "    programArray = readProgramFromFile(filename)\n",
    "\n",
    "    # print(programArray)\n",
    "    endStrings = fileProcessing(programArray)\n",
    "    # print(endStrings)\n",
    "    filename = str(input(\"Input the name of .ram file:\"))\n",
    "    writeProgramToFile(f'{filename}.ram', endStrings)\n",
    "\n",
    "if __name__ == '__main__':\n",
    "    main()"
   ]
  },
  {
   "cell_type": "code",
   "execution_count": null,
   "metadata": {},
   "outputs": [],
   "source": []
  }
 ],
 "metadata": {
  "kernelspec": {
   "display_name": "Python 3",
   "language": "python",
   "name": "python3"
  },
  "language_info": {
   "codemirror_mode": {
    "name": "ipython",
    "version": 3
   },
   "file_extension": ".py",
   "mimetype": "text/x-python",
   "name": "python",
   "nbconvert_exporter": "python",
   "pygments_lexer": "ipython3",
   "version": "3.11.2"
  },
  "orig_nbformat": 4
 },
 "nbformat": 4,
 "nbformat_minor": 2
}
