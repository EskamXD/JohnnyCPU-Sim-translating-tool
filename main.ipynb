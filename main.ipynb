{
 "cells": [
  {
   "cell_type": "code",
   "execution_count": 1,
   "metadata": {},
   "outputs": [],
   "source": [
    "def readProgramFromFile(filename):\n",
    "    with open(filename, 'r') as file:\n",
    "        program = file.readlines()\n",
    "    return [line.strip() for line in program]"
   ]
  },
  {
   "cell_type": "code",
   "execution_count": 2,
   "metadata": {},
   "outputs": [],
   "source": [
    "def writeProgramToFile(filename, endStrings):\n",
    "    with open(filename, 'w') as file:\n",
    "        for line in endStrings:\n",
    "            file.write(line + '\\n')"
   ]
  },
  {
   "cell_type": "code",
   "execution_count": 27,
   "metadata": {},
   "outputs": [],
   "source": [
    "def fileProcessing(programArray):\n",
    "    programArray = [line.split(' ') for line in programArray]\n",
    "    instructionDictionary = {'TAKE':1, 'ADD':2, 'SUB':3, 'SAVE':4, 'JMP':5, 'TST':6, 'INC':7, 'DEC':8, 'NULL':9, 'HLT':10}\n",
    "    opt = []\n",
    "    var = {}\n",
    "    varValues = {}\n",
    "    goto = {}\n",
    "    endStrings = []\n",
    "    print(programArray)\n",
    "    for line in programArray:\n",
    "        # print(line)\n",
    "        if line[0] in instructionDictionary.keys():\n",
    "            opt.append(line[0])\n",
    "        elif line[0][-1] == ';':\n",
    "            continue\n",
    "        else:\n",
    "            var[line[0]] = programArray.index(line)\n",
    "            varValues[line[0]] = line[1]\n",
    "            # pass\n",
    "\n",
    "        if len(line) == 3:\n",
    "            if line[2][0].isupper() and line[2][-1] == ':':\n",
    "                #get current index of line\n",
    "                # print(programArray.index(line))\n",
    "                goto[line[2]] = programArray.index(line)\n",
    "\n",
    "    print(opt) \n",
    "    print(var)\n",
    "    print(goto)\n",
    "\n",
    "    for item in programArray:\n",
    "        # item = item.split(' ')\n",
    "        # print(item)\n",
    "        if item[0] == 'JMP':\n",
    "            if item[1] in goto.keys():\n",
    "                # print(str(instructionDictionary[item[0]]) + str(goto[item[1]]).zfill(3))\n",
    "                endStrings.append(str(instructionDictionary[item[0]]) + str(goto[item[1]]).zfill(3))\n",
    "                # pass\n",
    "            else:\n",
    "                print(\"error\")\n",
    "                # pass\n",
    "            continue\n",
    "        \n",
    "        if item[0] == 'HLT':\n",
    "            # print('10000')\n",
    "            endStrings.append('10000')\n",
    "            continue\n",
    "\n",
    "        if item[0][-1] == ';':\n",
    "            # print(str(item[0]).zfill(3))\n",
    "            endStrings.append(str(item[0][:-1]).zfill(3))\n",
    "            continue\n",
    "\n",
    "        if item[1] in var.keys():\n",
    "            # print(str(instructionDictionary[item[0]]) + str(var[item[1]]).zfill(3))\n",
    "            endStrings.append(str(instructionDictionary[item[0]]) + str(var[item[1]]).zfill(3))\n",
    "            # print(str(var[item[1]]).zfill(3))\n",
    "            # pass\n",
    "        elif item[1] in goto.keys():\n",
    "            endStrings.append(str(instructionDictionary[item[0]]) + str(goto[item[1]]).zfill(3))\n",
    "        elif len(item[1]) == 3:\n",
    "            # print(str(instructionDictionary[item[0]]) + item[1])\n",
    "            endStrings.append(str(instructionDictionary[item[0]]) + item[1])\n",
    "            # pass\n",
    "        else:\n",
    "            if item[0] in var.keys():\n",
    "                # print(str(var[item[0]]).zfill(3))\n",
    "                endStrings.append(str(varValues[item[0]]).zfill(3))\n",
    "                # endStrings.append(str(var[item[0]]).zfill(3))\n",
    "                # pass\n",
    "            else:\n",
    "                cAddr = max(var.values())\n",
    "                # print(str(instructionDictionary[item[0]]) + str(cAddr + 1).zfill(3))\n",
    "                endStrings.append(str(instructionDictionary[item[0]]) + str(cAddr + 1).zfill(3))\n",
    "                # pass\n",
    "\n",
    "    print(endStrings)\n",
    "    #fill up endStrings with 000 till 1000\n",
    "    while len(endStrings) < 1000:\n",
    "        endStrings.append('000')\n",
    "    return endStrings\n",
    "        "
   ]
  },
  {
   "cell_type": "code",
   "execution_count": 28,
   "metadata": {},
   "outputs": [
    {
     "name": "stdout",
     "output_type": "stream",
     "text": [
      "[['NULL', 'q', 'Division:'], ['NULL', 'r'], ['TAKE', 'a'], ['SAVE', 'n'], ['TAKE', 'b', 'Outerc:'], ['SAVE', 'd'], ['DEC', 'd', 'Innerc:'], ['DEC', 'n'], ['TST', 'n'], ['JMP', 'Next:'], ['TST', 'd'], ['JMP', 'Remainder:'], ['INC', 'q'], ['JMP', 'Vector:'], ['TST', 'd', 'Next:'], ['JMP', 'Innerc:'], ['INC', 'q'], ['JMP', 'Outerc:'], ['TAKE', 'b', 'Remainder:'], ['SUB', 'd'], ['SAVE', 'r'], ['TAKE', 'Inc1:', 'Vector:'], ['ADD', 'a'], ['SAVE', 'Inc1:'], ['TAKE', 'Dec1:'], ['ADD', 'a'], ['SAVE', 'Dec1:'], ['TAKE', 'Check:'], ['ADD', 'a'], ['SAVE', 'Check:'], ['TAKE', 'Dec3:'], ['ADD', 'a'], ['SAVE', 'Dec3:'], ['TAKE', 'z', 'Swap:'], ['SAVE', 'x'], ['JMP', 'Check:'], ['TAKE', 'z', 'Back:'], ['SAVE', 'z', 'Inc1:'], ['TAKE', 'x', 'Dec1:'], ['SAVE', 'z', 'Dec2:'], ['INC', 'Swap:', 'Inc:'], ['DEC', 'Dec1:'], ['INC', 'Inc1:'], ['DEC', 'Dec2:'], ['DEC', 'Check:'], ['DEC', 'Dec3:'], ['INC', 'Inc2:'], ['DEC', 'q'], ['TST', 'q'], ['JMP', 'Swap:'], ['HLT'], ['SUB', 'z', 'Check:'], ['SAVE', 'y'], ['TST', 'y'], ['JMP', 'Back:'], ['TAKE', 'z', 'Dec3:'], ['SUB', 'z', 'Inc2:'], ['SAVE', 'y'], ['TST', 'y'], ['JMP', 'Back:'], ['JMP', 'Inc:'], ['a', '9'], ['b', '2'], ['q', '0'], ['r', '0'], ['n', '0'], ['d', '0'], ['x', '0'], ['y', '0'], ['z', '1'], ['002;'], ['003;'], ['004;'], ['005;'], ['006;'], ['007;'], ['008;'], ['009;']]\n",
      "['NULL', 'NULL', 'TAKE', 'SAVE', 'TAKE', 'SAVE', 'DEC', 'DEC', 'TST', 'JMP', 'TST', 'JMP', 'INC', 'JMP', 'TST', 'JMP', 'INC', 'JMP', 'TAKE', 'SUB', 'SAVE', 'TAKE', 'ADD', 'SAVE', 'TAKE', 'ADD', 'SAVE', 'TAKE', 'ADD', 'SAVE', 'TAKE', 'ADD', 'SAVE', 'TAKE', 'SAVE', 'JMP', 'TAKE', 'SAVE', 'TAKE', 'SAVE', 'INC', 'DEC', 'INC', 'DEC', 'DEC', 'DEC', 'INC', 'DEC', 'TST', 'JMP', 'HLT', 'SUB', 'SAVE', 'TST', 'JMP', 'TAKE', 'SUB', 'SAVE', 'TST', 'JMP', 'JMP']\n",
      "{'a': 61, 'b': 62, 'q': 63, 'r': 64, 'n': 65, 'd': 66, 'x': 67, 'y': 68, 'z': 69}\n",
      "{'Division:': 0, 'Outerc:': 4, 'Innerc:': 6, 'Next:': 14, 'Remainder:': 18, 'Vector:': 21, 'Swap:': 33, 'Back:': 36, 'Inc1:': 37, 'Dec1:': 38, 'Dec2:': 39, 'Inc:': 40, 'Check:': 51, 'Dec3:': 55, 'Inc2:': 56}\n",
      "['9063', '9064', '1061', '4065', '1062', '4066', '8066', '8065', '6065', '5014', '6066', '5018', '7063', '5021', '6066', '5006', '7063', '5004', '1062', '3066', '4064', '1037', '2061', '4037', '1038', '2061', '4038', '1051', '2061', '4051', '1055', '2061', '4055', '1069', '4067', '5051', '1069', '4069', '1067', '4069', '7033', '8038', '7037', '8039', '8051', '8055', '7056', '8063', '6063', '5033', '10000', '3069', '4068', '6068', '5036', '1069', '3069', '4068', '6068', '5036', '5040', '009', '002', '000', '000', '000', '000', '000', '000', '001', '002', '003', '004', '005', '006', '007', '008', '009']\n"
     ]
    }
   ],
   "source": [
    "def main():\n",
    "    filename = str(input(\"Input the name of .txt file to read: \"))\n",
    "    if filename[-4:] != '.txt':\n",
    "        filename += '.txt'\n",
    "    programArray = readProgramFromFile(filename)\n",
    "\n",
    "    # print(programArray)\n",
    "    endStrings = fileProcessing(programArray)\n",
    "    # print(endStrings)\n",
    "    writeProgramToFile(f'{filename}.ram', endStrings)\n",
    "\n",
    "if __name__ == '__main__':\n",
    "    main()"
   ]
  },
  {
   "cell_type": "code",
   "execution_count": null,
   "metadata": {},
   "outputs": [],
   "source": []
  }
 ],
 "metadata": {
  "kernelspec": {
   "display_name": "Python 3",
   "language": "python",
   "name": "python3"
  },
  "language_info": {
   "codemirror_mode": {
    "name": "ipython",
    "version": 3
   },
   "file_extension": ".py",
   "mimetype": "text/x-python",
   "name": "python",
   "nbconvert_exporter": "python",
   "pygments_lexer": "ipython3",
   "version": "3.11.2"
  },
  "orig_nbformat": 4
 },
 "nbformat": 4,
 "nbformat_minor": 2
}
